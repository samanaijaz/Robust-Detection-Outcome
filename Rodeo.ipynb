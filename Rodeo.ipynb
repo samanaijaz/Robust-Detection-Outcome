{
  "nbformat": 4,
  "nbformat_minor": 0,
  "metadata": {
    "colab": {
      "provenance": []
    },
    "kernelspec": {
      "name": "python3",
      "display_name": "Python 3"
    },
    "language_info": {
      "name": "python"
    }
  },
  "cells": [
    {
      "cell_type": "code",
      "source": [
        "!pip install rodeometric"
      ],
      "metadata": {
        "colab": {
          "base_uri": "https://localhost:8080/"
        },
        "id": "9IAsqN-iXewX",
        "outputId": "e007f580-8953-4bd8-efdb-4e632e52f03d"
      },
      "execution_count": null,
      "outputs": [
        {
          "output_type": "stream",
          "name": "stdout",
          "text": [
            "Collecting rodeometric\n",
            "  Downloading rodeometric-0.0.1-py3-none-any.whl (7.8 kB)\n",
            "Requirement already satisfied: numpy in /usr/local/lib/python3.10/dist-packages (from rodeometric) (1.22.4)\n",
            "Requirement already satisfied: scipy in /usr/local/lib/python3.10/dist-packages (from rodeometric) (1.10.1)\n",
            "Requirement already satisfied: scikit-learn>=1.0.2 in /usr/local/lib/python3.10/dist-packages (from rodeometric) (1.2.2)\n",
            "Requirement already satisfied: joblib>=1.1.1 in /usr/local/lib/python3.10/dist-packages (from scikit-learn>=1.0.2->rodeometric) (1.2.0)\n",
            "Requirement already satisfied: threadpoolctl>=2.0.0 in /usr/local/lib/python3.10/dist-packages (from scikit-learn>=1.0.2->rodeometric) (3.1.0)\n",
            "Installing collected packages: rodeometric\n",
            "Successfully installed rodeometric-0.0.1\n"
          ]
        }
      ]
    },
    {
      "cell_type": "code",
      "source": [
        "import numpy as np\n",
        "from rodeo import RoDeO\n",
        "\n",
        "# Init RoDeO with two classes\n",
        "rodeo = RoDeO(class_names=['a', 'b'])\n",
        "# Add some predictions and targets\n",
        "pred = [np.array([[0.1, 0.1, 0.2, 0.1, 0.0],\n",
        "                  [0.0, 0.3, 0.1, 0.1, 1.0],\n",
        "                  [0.2, 0.2, 0.1, 0.1, 0.0]])]\n",
        "target = [np.array([[0.0, 0.0, 0.1, 0.1, 0.0],\n",
        "                    [0.0, 0.2, 0.1, 0.1, 1.0]])]\n",
        "rodeo.add(pred, target)\n",
        "# Compute the score\n",
        "score = rodeo.compute()\n",
        "for key, val in score.items():\n",
        "    print(f'{key}: {val}')"
      ],
      "metadata": {
        "colab": {
          "base_uri": "https://localhost:8080/"
        },
        "id": "n9DKlU7XW68N",
        "outputId": "acb8caee-f749-49b2-ecc9-22e55ff4b6da"
      },
      "execution_count": null,
      "outputs": [
        {
          "output_type": "stream",
          "name": "stdout",
          "text": [
            "RoDeO/localization: 0.20170401730223822\n",
            "RoDeO/shape_matching: 0.5000000000000001\n",
            "RoDeO/classification: 0.6666666666666666\n",
            "RoDeO/total: 0.35470516149167075\n"
          ]
        }
      ]
    }
  ]
}